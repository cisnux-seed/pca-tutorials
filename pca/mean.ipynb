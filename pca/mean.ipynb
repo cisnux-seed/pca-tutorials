{
 "cells": [
  {
   "cell_type": "markdown",
   "source": [
    "## Mean of datasets\n",
    "### Practice Quiz"
   ],
   "metadata": {
    "collapsed": false
   },
   "id": "c65b5dbf705a8152"
  },
  {
   "cell_type": "code",
   "execution_count": 394,
   "outputs": [],
   "source": [
    "import numpy as np"
   ],
   "metadata": {
    "collapsed": false,
    "ExecuteTime": {
     "end_time": "2023-10-27T13:30:47.381491Z",
     "start_time": "2023-10-27T13:30:47.358452Z"
    }
   },
   "id": "1d718f179e18128e"
  },
  {
   "cell_type": "code",
   "execution_count": 395,
   "outputs": [],
   "source": [
    "def get_mean_vector_from_matrix(matrix):\n",
    "    size_of_vectors = np.array([np.size(vector) for vector in matrix])\n",
    "    _mean_vector = np.array([[np.sum(matrix[i]) / size_of_vectors[i]] for i in range(0, np.size(size_of_vectors))])\n",
    "    return _mean_vector"
   ],
   "metadata": {
    "collapsed": false,
    "ExecuteTime": {
     "end_time": "2023-10-27T13:30:47.395553Z",
     "start_time": "2023-10-27T13:30:47.362265Z"
    }
   },
   "id": "51dcdb514660a550"
  },
  {
   "cell_type": "markdown",
   "source": [
    "### 1. What is the mean of the dataset D = {1,2,3}?"
   ],
   "metadata": {
    "collapsed": false
   },
   "id": "4c5cc725f22cbb91"
  },
  {
   "cell_type": "code",
   "execution_count": 396,
   "outputs": [
    {
     "name": "stdout",
     "output_type": "stream",
     "text": [
      "2.0\n"
     ]
    }
   ],
   "source": [
    "d = np.array([1, 2, 3])\n",
    "mean = np.sum(d) / np.size(d)\n",
    "print(mean)"
   ],
   "metadata": {
    "collapsed": false,
    "ExecuteTime": {
     "end_time": "2023-10-27T13:30:47.395921Z",
     "start_time": "2023-10-27T13:30:47.366935Z"
    }
   },
   "id": "bd84871553d07aee"
  },
  {
   "cell_type": "markdown",
   "source": [
    "### 2. Compute the eman of the following dataset\n",
    "```\n",
    "D = [\n",
    "    [1, 2, 3],\n",
    "    [4, 5, 6],\n",
    "    [7, 8, 9]\n",
    "]\n",
    "```"
   ],
   "metadata": {
    "collapsed": false
   },
   "id": "2ad624f92b7dafae"
  },
  {
   "cell_type": "code",
   "execution_count": 397,
   "outputs": [
    {
     "name": "stdout",
     "output_type": "stream",
     "text": [
      "[[2.]\n",
      " [5.]\n",
      " [8.]]\n"
     ]
    }
   ],
   "source": [
    "d = np.array([\n",
    "    [1, 2, 3],\n",
    "    [4, 5, 6],\n",
    "    [7, 8, 9]\n",
    "])\n",
    "print(get_mean_vector_from_matrix(d))"
   ],
   "metadata": {
    "collapsed": false,
    "ExecuteTime": {
     "end_time": "2023-10-27T13:30:47.396059Z",
     "start_time": "2023-10-27T13:30:47.373869Z"
    }
   },
   "id": "758295c8baf5844b"
  },
  {
   "cell_type": "markdown",
   "source": [
    "### 3. What is the mean of the following dataset, after multiplying each sample in the dataset by 2? \n",
    "```\n",
    "D = [\n",
    "    [1,3,5],\n",
    "    [2,4,3],\n",
    "    [3,5,1],\n",
    "]\n",
    "```"
   ],
   "metadata": {
    "collapsed": false
   },
   "id": "3f27ef1a05ddf035"
  },
  {
   "cell_type": "code",
   "execution_count": 398,
   "outputs": [
    {
     "name": "stdout",
     "output_type": "stream",
     "text": [
      "[[6.]\n",
      " [6.]\n",
      " [6.]]\n"
     ]
    }
   ],
   "source": [
    "d = np.array([\n",
    "    [1,3,5],\n",
    "    [2,4,3],\n",
    "    [3,5,1],\n",
    "]) * 2\n",
    "print(get_mean_vector_from_matrix(d))"
   ],
   "metadata": {
    "collapsed": false,
    "ExecuteTime": {
     "end_time": "2023-10-27T13:30:47.396380Z",
     "start_time": "2023-10-27T13:30:47.378058Z"
    }
   },
   "id": "e15cdfe01836ac10"
  },
  {
   "cell_type": "markdown",
   "source": [
    "### 4. What is the mean of the following dataset, after adding `[[1],[2],[3]]` to each sample in the following dataset?\n",
    "```\n",
    "D = [\n",
    "    [1,3,5],\n",
    "    [2,4,3],\n",
    "    [5,3,1]\n",
    "]\n",
    "```"
   ],
   "metadata": {
    "collapsed": false
   },
   "id": "8f46386995897876"
  },
  {
   "cell_type": "code",
   "execution_count": 399,
   "outputs": [
    {
     "name": "stdout",
     "output_type": "stream",
     "text": [
      "[[2 4 6]\n",
      " [4 6 5]\n",
      " [8 6 4]]\n",
      "mean of vector = [[4.]\n",
      " [5.]\n",
      " [6.]]\n"
     ]
    }
   ],
   "source": [
    "d = np.array([\n",
    "    [1,3,5],\n",
    "    [2,4,3],\n",
    "    [5,3,1]\n",
    "]) + np.array([\n",
    "    [1],\n",
    "    [2],\n",
    "    [3]\n",
    "])\n",
    "print(d)\n",
    "print(f'mean of vector = {get_mean_vector_from_matrix(d)}')"
   ],
   "metadata": {
    "collapsed": false,
    "ExecuteTime": {
     "end_time": "2023-10-27T13:30:47.396748Z",
     "start_time": "2023-10-27T13:30:47.385622Z"
    }
   },
   "id": "53a9a23e83d2df5f"
  },
  {
   "cell_type": "markdown",
   "source": [
    "### 5. Assuming that we know the mean xn-1 of a dataset Dn -1 with n-1 data points. Now, suppose that we collect another data point, which we denote by x*. Select the correct formula that computes the correct new mean xn of the full data set Dn = Dn-1 U {x*}, i.e., we add x* to the dataset D."
   ],
   "metadata": {
    "collapsed": false
   },
   "id": "635a84c54fb7c3d"
  },
  {
   "cell_type": "code",
   "execution_count": 400,
   "outputs": [
    {
     "name": "stdout",
     "output_type": "stream",
     "text": [
      "[[2.75]\n",
      " [3.25]\n",
      " [2.75]]\n"
     ]
    }
   ],
   "source": [
    "# d = np.array([\n",
    "#     [1,3,5,2],\n",
    "#     [2,4,3,4],\n",
    "#     [5,3,1,2]\n",
    "# ])\n",
    "# print(get_mean_vector_from_matrix(d))\n",
    "# 2.75,3.25,2.75\n",
    "d = np.array([\n",
    "    [1,3,5],\n",
    "    [2,4,3],\n",
    "    [5,3,1]\n",
    "])\n",
    "new_vector = np.array([\n",
    "    [2],\n",
    "    [4],\n",
    "    [2]\n",
    "])\n",
    "mean_vector = get_mean_vector_from_matrix(d)\n",
    "print(mean_vector+(new_vector - mean_vector)/(np.size(mean_vector)+1))"
   ],
   "metadata": {
    "collapsed": false,
    "ExecuteTime": {
     "end_time": "2023-10-27T13:30:47.396840Z",
     "start_time": "2023-10-27T13:30:47.386251Z"
    }
   },
   "id": "61f58d55bdb6cc6"
  },
  {
   "cell_type": "markdown",
   "source": [
    "### 6. Assuming you are given an image as a two-dimensional array of shape 28x28. Write a small piece of python code to reshape this image to a vector of length 784=(28x28) "
   ],
   "metadata": {
    "collapsed": false
   },
   "id": "1709a05ff06dcd5"
  },
  {
   "cell_type": "code",
   "execution_count": 401,
   "outputs": [
    {
     "name": "stdout",
     "output_type": "stream",
     "text": [
      "[1 3 5 2 4 3 5 3 1]\n"
     ]
    }
   ],
   "source": [
    "_matrix = np.array([\n",
    "    [1,3,5],\n",
    "    [2,4,3],\n",
    "    [5,3,1]\n",
    "])\n",
    "print(_matrix.reshape(-1))"
   ],
   "metadata": {
    "collapsed": false,
    "ExecuteTime": {
     "end_time": "2023-10-27T13:30:47.396929Z",
     "start_time": "2023-10-27T13:30:47.391172Z"
    }
   },
   "id": "90d7d3e881a423ab"
  }
 ],
 "metadata": {
  "kernelspec": {
   "display_name": "Python 3",
   "language": "python",
   "name": "python3"
  },
  "language_info": {
   "codemirror_mode": {
    "name": "ipython",
    "version": 2
   },
   "file_extension": ".py",
   "mimetype": "text/x-python",
   "name": "python",
   "nbconvert_exporter": "python",
   "pygments_lexer": "ipython2",
   "version": "2.7.6"
  }
 },
 "nbformat": 4,
 "nbformat_minor": 5
}
