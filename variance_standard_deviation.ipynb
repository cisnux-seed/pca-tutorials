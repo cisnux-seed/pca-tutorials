{
 "cells": [
  {
   "cell_type": "markdown",
   "source": [
    "# Variance of 1D datasets\n",
    "## Graded Quiz"
   ],
   "metadata": {
    "collapsed": false
   },
   "id": "a3acf5fcc8df83a8"
  },
  {
   "cell_type": "code",
   "execution_count": 1,
   "outputs": [],
   "source": [
    "import numpy as np\n",
    "import math"
   ],
   "metadata": {
    "collapsed": false,
    "ExecuteTime": {
     "end_time": "2023-10-29T20:55:55.024374Z",
     "start_time": "2023-10-29T20:55:54.870278Z"
    }
   },
   "id": "71fa590f1b787e54"
  },
  {
   "cell_type": "markdown",
   "source": [
    "### 1. What is the variance of the following dataset? `D = [1,2,3,2]` Please use decimal numbers in your answer.\n"
   ],
   "metadata": {
    "collapsed": false
   },
   "id": "4d1318e380629510"
  },
  {
   "cell_type": "code",
   "execution_count": 2,
   "outputs": [
    {
     "name": "stdout",
     "output_type": "stream",
     "text": [
      "0.5\n"
     ]
    }
   ],
   "source": [
    "d = np.array([1,2,3,2])\n",
    "mean = np.sum(d)/np.size(d)\n",
    "variance = np.sum((d-mean)**2)/np.size(d)\n",
    "print(variance)"
   ],
   "metadata": {
    "collapsed": false,
    "ExecuteTime": {
     "end_time": "2023-10-29T20:56:03.670312Z",
     "start_time": "2023-10-29T20:56:03.641407Z"
    }
   },
   "id": "a2e357d9f54e9e6d"
  },
  {
   "cell_type": "markdown",
   "source": [
    "### 2. What is the standard deviation of the dataset `D = [1,2,3,2]` which we already used in the previous question? You should provide a decimal nuber as your answer."
   ],
   "metadata": {
    "collapsed": false
   },
   "id": "cbe8f5dd7fd83af2"
  },
  {
   "cell_type": "code",
   "execution_count": 3,
   "outputs": [
    {
     "name": "stdout",
     "output_type": "stream",
     "text": [
      "0.7071067811865476\n",
      "0.7071067811865476\n"
     ]
    }
   ],
   "source": [
    "d = np.array([1,2,3,2])\n",
    "mean = np.sum(d)/np.size(d)\n",
    "standard_deviation = math.sqrt(np.sum((d-mean)**2)/np.size(d))\n",
    "print(standard_deviation)\n",
    "# it would be same\n",
    "# print(np.std(d))"
   ],
   "metadata": {
    "collapsed": false,
    "ExecuteTime": {
     "end_time": "2023-10-29T20:56:20.814756Z",
     "start_time": "2023-10-29T20:56:20.796064Z"
    }
   },
   "id": "908adcbaf87010c2"
  },
  {
   "cell_type": "markdown",
   "source": [
    "### 3. What would be the new variance if we added 1 to each element in the dataset `D=[1,2,3,2]` from Question 1? Please use decimal numbers in your answer."
   ],
   "metadata": {
    "collapsed": false
   },
   "id": "b4deff5cf98a2152"
  },
  {
   "cell_type": "code",
   "execution_count": 87,
   "outputs": [
    {
     "name": "stdout",
     "output_type": "stream",
     "text": [
      "0.5\n"
     ]
    }
   ],
   "source": [
    "d = np.array([1,2,3,2])+1\n",
    "mean = np.sum(d)/np.size(d)\n",
    "variance = np.sum((d-mean)**2)/np.size(d)\n",
    "print(variance)"
   ],
   "metadata": {
    "collapsed": false,
    "ExecuteTime": {
     "end_time": "2023-10-27T19:47:25.881420Z",
     "start_time": "2023-10-27T19:47:25.363358Z"
    }
   },
   "id": "6a4b034b0e6bfa4c"
  },
  {
   "cell_type": "markdown",
   "source": [
    "### 4. What would be the new variance if we multiplied each sample in a dataset D by 2."
   ],
   "metadata": {
    "collapsed": false
   },
   "id": "d44c51d3194e9deb"
  },
  {
   "cell_type": "code",
   "execution_count": 88,
   "outputs": [
    {
     "name": "stdout",
     "output_type": "stream",
     "text": [
      "2.0\n"
     ]
    }
   ],
   "source": [
    "d = np.array([1,2,3,2])*2\n",
    "mean = np.sum(d)/np.size(d)\n",
    "variance = np.sum((d-mean)**2)/np.size(d)\n",
    "print(variance)"
   ],
   "metadata": {
    "collapsed": false,
    "ExecuteTime": {
     "end_time": "2023-10-27T19:47:25.894949Z",
     "start_time": "2023-10-27T19:47:25.459784Z"
    }
   },
   "id": "793d18fa04c06d80"
  }
 ],
 "metadata": {
  "kernelspec": {
   "display_name": "Python 3",
   "language": "python",
   "name": "python3"
  },
  "language_info": {
   "codemirror_mode": {
    "name": "ipython",
    "version": 2
   },
   "file_extension": ".py",
   "mimetype": "text/x-python",
   "name": "python",
   "nbconvert_exporter": "python",
   "pygments_lexer": "ipython2",
   "version": "2.7.6"
  }
 },
 "nbformat": 4,
 "nbformat_minor": 5
}
